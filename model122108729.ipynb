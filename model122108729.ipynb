{
  "nbformat": 4,
  "nbformat_minor": 0,
  "metadata": {
    "colab": {
      "provenance": [],
      "authorship_tag": "ABX9TyPOmZY5GvT55yufUSMLfNlR",
      "include_colab_link": true
    },
    "kernelspec": {
      "name": "python3",
      "display_name": "Python 3"
    },
    "language_info": {
      "name": "python"
    }
  },
  "cells": [
    {
      "cell_type": "markdown",
      "metadata": {
        "id": "view-in-github",
        "colab_type": "text"
      },
      "source": [
        "<a href=\"https://colab.research.google.com/github/JazzLiberal/DataMining/blob/main/model122108729.ipynb\" target=\"_parent\"><img src=\"https://colab.research.google.com/assets/colab-badge.svg\" alt=\"Open In Colab\"/></a>"
      ]
    },
    {
      "cell_type": "code",
      "execution_count": 3,
      "metadata": {
        "colab": {
          "base_uri": "https://localhost:8080/"
        },
        "id": "fwBULCkKMDrC",
        "outputId": "01a10738-65bb-42f5-b11f-92917c8e749b"
      },
      "outputs": [
        {
          "output_type": "stream",
          "name": "stdout",
          "text": [
            "Best score:  0.9222643097643097\n",
            "Accuracy score:  0.9312169312169312\n"
          ]
        }
      ],
      "source": [
        "import pandas as pd\n",
        "import numpy as np\n",
        "from sklearn import model_selection\n",
        "from sklearn import preprocessing\n",
        "from sklearn import tree\n",
        "from sklearn.ensemble import RandomForestClassifier\n",
        "from sklearn.pipeline import Pipeline\n",
        "from sklearn.decomposition import PCA\n",
        "from sklearn.preprocessing import MinMaxScaler\n",
        "from sklearn.svm import SVC\n",
        "from sklearn.metrics import accuracy_score\n",
        "from sklearn.model_selection import GridSearchCV\n",
        "\n",
        "\n",
        "#Define a new Pipeline using the RandomForest Classifier \n",
        "pipe = Pipeline([('scaler', MinMaxScaler()), ('pca', PCA()), ('rf', RandomForestClassifier())])\n",
        "\n",
        "\n",
        "#update parameter grid for new random forest and pca arguments\n",
        "param_grid = {'pca__n_components': [24],\n",
        "              'pca__whiten' : [True],\n",
        "              'rf__max_features': [0.3],\n",
        "              'rf__max_depth': [None],\n",
        "              'rf__min_samples_leaf' : [2],\n",
        "              'rf__n_estimators': [9]}\n",
        "\n",
        "\n",
        "#Define and fit the grid as before, trialled different cross validations\n",
        "grid = GridSearchCV(pipe, param_grid, cv=8)\n",
        "grid.fit(train_features, train_labels)\n",
        "\n",
        "print(\"Best score: \", grid.best_score_)\n",
        "\n",
        "y_pred = grid.best_estimator_.predict(test_features)\n",
        "\n",
        "# Compute the accuracy score of the model\n",
        "accuracy = accuracy_score(test_labels, y_pred)\n",
        "print(\"Accuracy score: \", accuracy)    "
      ]
    }
  ]
}